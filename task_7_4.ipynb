{
 "cells": [
  {
   "cell_type": "code",
   "execution_count": 1,
   "metadata": {
    "scrolled": true
   },
   "outputs": [],
   "source": [
    "MIN_ITEM = -100\n",
    "MAX_ITEM = 100\n",
    "from random import randint\n",
    "import timeit\n",
    "from matplotlib import pyplot as plt\n",
    "\n",
    "# вариант без индексов и с коротким if\n",
    "def mediana(array):\n",
    "\n",
    "    for item in array:\n",
    "        less = more = equal = 0\n",
    "        for el in array:\n",
    "            if el < item:\n",
    "                less += 1\n",
    "            elif el > item:\n",
    "                more += 1\n",
    "            else:\n",
    "                equal += 1\n",
    "        if abs(less - more) < equal:\n",
    "            return item\n",
    "\n",
    "# вариант с индексами и длинным if\n",
    "def median_square(array):\n",
    "    for i in range(len(array)):\n",
    "        smaller = equal = bigger = 0\n",
    "        for j in range(len(array)):\n",
    "            if array[i] < array[j]:\n",
    "                smaller += 1\n",
    "            elif array[i] > array[j]:\n",
    "                bigger += 1\n",
    "            else:\n",
    "                equal += 1\n",
    "        equal -= 1\n",
    "\n",
    "        if smaller == bigger or smaller == equal + bigger or bigger == equal + smaller or \\\n",
    "                (equal > 1 and abs(bigger - smaller) < equal):\n",
    "            return array[i]\n",
    "\n",
    "# вариант с индексами и коротким if\n",
    "def median_1(array):\n",
    "    for i in range(len(array)):\n",
    "        smaller = equal = bigger = 0\n",
    "        for j in range(len(array)):\n",
    "            if array[i] < array[j]:\n",
    "                smaller += 1\n",
    "            elif array[i] > array[j]:\n",
    "                bigger += 1\n",
    "            else:\n",
    "                equal += 1\n",
    "        equal -= 1\n",
    "        if abs(bigger - smaller) <= equal:\n",
    "            return array[i]\n",
    "\n",
    "# вариант с элементами и длинным if\n",
    "def median_2(array):\n",
    "    for number in array:\n",
    "        smaller = equal = bigger = 0\n",
    "        for num in array:\n",
    "            if number < num:\n",
    "                smaller += 1\n",
    "            elif number > num:\n",
    "                bigger += 1\n",
    "            else:\n",
    "                equal += 1\n",
    "        equal -= 1\n",
    "\n",
    "        if smaller == bigger or smaller == equal + bigger or bigger == equal + smaller or \\\n",
    "                (equal > 1 and abs(bigger - smaller) < equal):\n",
    "            return number\n",
    "\n",
    "\n"
   ]
  },
  {
   "cell_type": "code",
   "execution_count": 31,
   "metadata": {},
   "outputs": [
    {
     "data": {
      "text/plain": [
       "[10, 100, 1000, 10000]"
      ]
     },
     "execution_count": 31,
     "metadata": {},
     "output_type": "execute_result"
    }
   ],
   "source": [
    "m_list = [10**n for n in range(1, 5)]\n",
    "m_list\n",
    "arr_list = []\n",
    "for m in m_list:\n",
    "    arr = [randint(MIN_ITEM, MAX_ITEM) for _ in range(2 * m + 1)]\n",
    "    arr_list.append(arr)\n",
    "m_list"
   ]
  },
  {
   "cell_type": "code",
   "execution_count": null,
   "metadata": {},
   "outputs": [],
   "source": [
    "res_1 = []\n",
    "for arr in arr_list:\n",
    "\n",
    "    res_1.append(timeit.timeit('mediana(arr)', number=100, globals=globals()))\n",
    "# вариант без индексов и с коротким if (Павла Марутенкова)\n",
    "\n",
    "res_2 = []\n",
    "for arr in arr_list:\n",
    "\n",
    "\n",
    "    res_2.append(timeit.timeit('median_square(arr)', number=100, globals=globals()))\n",
    "# вариант с индексами и длинным if (Алексея Петренко)\n",
    "    \n",
    "\n",
    "res_3 = []\n",
    "for arr in arr_list:\n",
    "\n",
    "\n",
    "    res_3.append(timeit.timeit('median_1(arr)', number=100, globals=globals()))\n",
    "# вариант с элементами и длинным if\n",
    "\n",
    "res_4 = []\n",
    "for arr in arr_list:\n",
    "\n",
    "    res_4.append(timeit.timeit('median_2(arr)', number=100, globals=globals()))\n",
    "\n",
    "\n",
    "# вариант с индексами и коротким if\n"
   ]
  },
  {
   "cell_type": "code",
   "execution_count": 30,
   "metadata": {},
   "outputs": [
    {
     "data": {
      "text/plain": [
       "[<matplotlib.lines.Line2D at 0x7f18a530c790>]"
      ]
     },
     "execution_count": 30,
     "metadata": {},
     "output_type": "execute_result"
    },
    {
     "data": {
      "image/png": "[encoded data removed]",
      "text/plain": [
       "<Figure size 432x288 with 1 Axes>"
      ]
     },
     "metadata": {
      "needs_background": "light"
     },
     "output_type": "display_data"
    }
   ],
   "source": [
    "\n",
    "fig = plt.figure()\n",
    "ax = fig.add_axes([0,0,1,1])\n",
    "ax.grid(True)\n",
    "ax.plot(m_list, res_1)\n",
    "ax.plot(m_list, res_2)\n",
    "ax.plot(m_list, res_3)\n",
    "ax.plot(m_list, res_4)\n",
    "\n",
    "\n"
   ]
  },
  {
   "cell_type": "code",
   "execution_count": null,
   "metadata": {},
   "outputs": [],
   "source": []
  }
 ],
 "metadata": {
  "kernelspec": {
   "display_name": "Python 3",
   "language": "python",
   "name": "python3"
  },
  "language_info": {
   "codemirror_mode": {
    "name": "ipython",
    "version": 3
   },
   "file_extension": ".py",
   "mimetype": "text/x-python",
   "name": "python",
   "nbconvert_exporter": "python",
   "pygments_lexer": "ipython3",
   "version": "3.9.1"
  }
 },
 "nbformat": 4,
 "nbformat_minor": 2
}
